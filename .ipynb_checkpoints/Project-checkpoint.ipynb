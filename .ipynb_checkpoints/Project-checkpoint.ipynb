{
 "cells": [
  {
   "cell_type": "code",
   "execution_count": 1,
   "id": "6df9eeda",
   "metadata": {},
   "outputs": [],
   "source": [
    "import pandas as pd\n",
    "import pickle\n",
    "import numpy as np\n",
    "from torch.autograd import Variable\n",
    "import torch.nn as nn\n",
    "import torch.optim as optim\n",
    "from torch.nn import Linear, LSTM, Dropout, BatchNorm1d, BatchNorm2d, Parameter, GRU\n",
    "from torch.nn.functional import relu\n",
    "from torch import tanh\n",
    "import matplotlib.pyplot as plt\n",
    "from IPython.display import clear_output"
   ]
  },
  {
   "cell_type": "code",
   "execution_count": 2,
   "id": "de56f671",
   "metadata": {},
   "outputs": [],
   "source": [
    "file = open(r\"data/aligned_GM-7792_DRD-d6b1cf27-41ed-43b6-8050-2068ef941a0aDRD-d6b1cf27-41ed-43b6-8050-2068ef941a0a_GM-7792_pass-0_cleaned.pickle\",'rb')\n",
    "df1 = pickle.load(file)\n",
    "file.close()\n",
    "file = open(r\"data/aligned_GM-7792_DRD-d6b1cf27-41ed-43b6-8050-2068ef941a0aDRD-d6b1cf27-41ed-43b6-8050-2068ef941a0a_GM-7792_pass-1_cleaned.pickle\",'rb')\n",
    "df2 = pickle.load(file)\n",
    "file.close()\n",
    "df = pd.concat([df1, df2])"
   ]
  },
  {
   "cell_type": "code",
   "execution_count": 3,
   "id": "ce18913d",
   "metadata": {},
   "outputs": [],
   "source": [
    "#df1 = df1.sample(frac=0.7)\n",
    "#df2 = df2.sample(frac=0.7)\n",
    "\n",
    "#df1.to_pickle(r\"data/aligned_GM-7792_DRD-d6b1cf27-41ed-43b6-8050-2068ef941a0aDRD-d6b1cf27-41ed-43b6-8050-2068ef941a0a_GM-7792_pass-0_cleaned.pickle\")\n",
    "#df2.to_pickle(r\"data/aligned_GM-7792_DRD-d6b1cf27-41ed-43b6-8050-2068ef941a0aDRD-d6b1cf27-41ed-43b6-8050-2068ef941a0a_GM-7792_pass-1_cleaned.pickle\")\n"
   ]
  },
  {
   "cell_type": "code",
   "execution_count": 4,
   "id": "c11ed43f",
   "metadata": {},
   "outputs": [
    {
     "name": "stdout",
     "output_type": "stream",
     "text": [
      "2681\n"
     ]
    }
   ],
   "source": [
    "print(len(df))"
   ]
  },
  {
   "cell_type": "code",
   "execution_count": 5,
   "id": "cf34d0ba",
   "metadata": {},
   "outputs": [],
   "source": [
    "LOAD = True\n",
    "\n",
    "### All transformations toggled below are performed based on the training set only\n",
    "### Transformations are applied to all data sets\n",
    "\n",
    "## Use min max scaling on zAcc and speed data\n",
    "## Resulting values are put between MINIMUM and MAXIMUM (based on training min max)\n",
    "NORMALIZE = True # True\n",
    "MINIMUM = -1 #-1\n",
    "MAXIMUM = 1 #1\n",
    "\n",
    "## Downsample all sequences above the length quantile of the training set\n",
    "## Ordering of the elements are kept\n",
    "## Applied to zAcc sequences and speed sequences\n",
    "QUANTILE = 0.9 # 0.9\n",
    "DOWNSAMPLE = True #True\n",
    "## Simply removes the rows affected\n",
    "DOWNSAMPLE_BY_REMOVAL = False #False\n",
    "assert(not (DOWNSAMPLE and DOWNSAMPLE_BY_REMOVAL))\n",
    "\n",
    "## If true, use numpy repeat on all speed sequences followed by np.choice on indices to \n",
    "## have the length of speed sequences match the length of zAcc sequences\n",
    "## If false, the model does it in the forward call (making the transformation volatile and non static)\n",
    "#MATCH_LEN_DF = True\n",
    "\n",
    "## If true, shuffles accZ and speed sequences on the first load\n",
    "SHUFFLE = False #False\n",
    "ONLY_SHUFFLE_TRAIN = False #False\n",
    "\n",
    "## Sets the maximum IRI_mean value for the training set\n",
    "TRAIN_IRI_MEAN_THRESHOLD = 4.5 #4.5\n",
    "\n",
    "## Every row with an acceleration sequence lower than this will be cut from the overall data set\n",
    "LOWER_ACCZ_LEN_CUTOFF = 1000 #1000\n",
    "\n",
    "\n",
    "BATCH_SIZE = 1 #1"
   ]
  },
  {
   "cell_type": "code",
   "execution_count": 6,
   "id": "2ee08e8d",
   "metadata": {},
   "outputs": [
    {
     "name": "stdout",
     "output_type": "stream",
     "text": [
      "removed 3.45% of train/val/test samples by low cutoff\n"
     ]
    }
   ],
   "source": [
    "clean_df = df.copy()\n",
    "clean_df = df.sample(frac=1).reset_index(drop=True)\n",
    "clean_df = clean_df[['IRI_mean', 'GM.acc.xyz.z', 'GM.obd.spd_veh.value']]\n",
    "clean_df = clean_df[clean_df['IRI_mean'] <= 4.5]\n",
    "before_low_cut = len(clean_df)\n",
    "clean_df = clean_df[clean_df['GM.acc.xyz.z'].apply(lambda x: len(x)) > LOWER_ACCZ_LEN_CUTOFF]\n",
    "print('removed {:.2f}% of train/val/test samples by low cutoff'.format((before_low_cut-len(clean_df))/before_low_cut*100))"
   ]
  },
  {
   "cell_type": "code",
   "execution_count": 7,
   "id": "dbf5333b",
   "metadata": {},
   "outputs": [],
   "source": [
    "set_fractions = [0.80, 0.10, 0.10]\n",
    "assert(sum(set_fractions) <= 1)\n",
    "\n",
    "train_len = round(len(clean_df) * set_fractions[0])\n",
    "val_len = round(len(clean_df) * set_fractions[1])\n",
    "test_len = round(len(clean_df) * set_fractions[2])\n",
    "train_set, validation_set, test_set = clean_df[:train_len].copy(), clean_df[train_len:train_len+val_len].copy(), clean_df[train_len+val_len:min(train_len+val_len+test_len,len(clean_df))].copy()\n",
    "\n",
    "\n",
    "full_df = df.copy()\n",
    "full_df = full_df[['IRI_mean', 'GM.acc.xyz.z', 'GM.obd.spd_veh.value']]\n",
    "full_df = full_df[full_df['GM.acc.xyz.z'].apply(lambda x: len(x)) > LOWER_ACCZ_LEN_CUTOFF]\n",
    "\n",
    "maxAcc = max(train_set['GM.acc.xyz.z'].apply(lambda x: max(x)))\n",
    "minAcc = min(train_set['GM.acc.xyz.z'].apply(lambda x: min(x)))\n",
    "maxSpeed = max(train_set['GM.obd.spd_veh.value'].apply(lambda x: max(x)))\n",
    "minSpeed = min(train_set['GM.obd.spd_veh.value'].apply(lambda x: min(x)))\n",
    "\n",
    "def normalizeDF(df):\n",
    "    result = df.copy()\n",
    "    result['GM.acc.xyz.z'] = result['GM.acc.xyz.z'].apply(lambda l: np.array([(x-minAcc)/(maxAcc-minAcc) * (MAXIMUM-MINIMUM) + MINIMUM for x in l]))\n",
    "    result['GM.obd.spd_veh.value'] = result['GM.obd.spd_veh.value'].apply(lambda l: np.array([(x-minSpeed)/(maxSpeed-minSpeed) * (MAXIMUM-MINIMUM) + MINIMUM for x in l]))\n",
    "    \n",
    "    #result['GM.acc.xyz.z'].apply(lambda l: np.random.shuffle(l))\n",
    "    #result['GM.obd.spd_veh.value'].apply(lambda l: np.random.shuffle(l))\n",
    "    \n",
    "    return result\n",
    "\n",
    "train_set = train_set[train_set['IRI_mean'] <= TRAIN_IRI_MEAN_THRESHOLD]\n",
    "\n",
    "if(NORMALIZE):\n",
    "    train_set = normalizeDF(train_set)\n",
    "    validation_set = normalizeDF(validation_set)\n",
    "    test_set = normalizeDF(test_set)"
   ]
  },
  {
   "cell_type": "code",
   "execution_count": 8,
   "id": "7ba76d9d",
   "metadata": {},
   "outputs": [
    {
     "name": "stdout",
     "output_type": "stream",
     "text": [
      "{'GM.acc.xyz.z': 6342}\n",
      "{'GM.acc.xyz.z': 6342, 'GM.obd.spd_veh.value': 1142}\n",
      "6342\n",
      "6342\n",
      "6342\n"
     ]
    }
   ],
   "source": [
    "#downsample large sequences\n",
    "from numpy.random import choice\n",
    "\n",
    "to_lengths_dict = {}\n",
    "input_feats = ['GM.acc.xyz.z', 'GM.obd.spd_veh.value']\n",
    "for feat in input_feats:\n",
    "    a = train_set[feat].apply(lambda seq: seq.shape[0])\n",
    "    l = int(a.quantile(QUANTILE))\n",
    "    to_lengths_dict[feat] = l\n",
    "    print(to_lengths_dict)\n",
    "    \n",
    "def downsample(x, to_len):\n",
    "    idx = np.arange(len(x))\n",
    "    idx = choice(idx, to_len, replace=False)\n",
    "    idx.sort()\n",
    "    return x.take(idx)\n",
    "    \n",
    "if(DOWNSAMPLE):\n",
    "    for (k,v) in to_lengths_dict.items():\n",
    "        train_set[k] = train_set[k].apply(lambda x: downsample(x,v) if len(x) > v else x)\n",
    "        validation_set[k] = validation_set[k].apply(lambda x: downsample(x,v) if len(x) > v else x)\n",
    "        test_set[k] = test_set[k].apply(lambda x: downsample(x,v) if len(x) > v else x)\n",
    "elif(DOWNSAMPLE_BY_REMOVAL):\n",
    "    before_downsample_removal = len(train_set) + len(validation_set) + len(test_set)\n",
    "    train_set = train_set[train_set['GM.acc.xyz.z'].apply(lambda x: len(x)) < to_lengths_dict['GM.acc.xyz.z']]\n",
    "    validation_set = validation_set[validation_set['GM.acc.xyz.z'].apply(lambda x: len(x)) < to_lengths_dict['GM.acc.xyz.z']]\n",
    "    test_set = test_set[test_set['GM.acc.xyz.z'].apply(lambda x: len(x)) < to_lengths_dict['GM.acc.xyz.z']]\n",
    "    after_downsample_removal = len(train_set) + len(validation_set) + len(test_set)\n",
    "    print('removed {:.2f}% of train/val/test samples by high cutoff'.format((before_downsample_removal-after_downsample_removal)/before_downsample_removal*100))\n",
    "    \n",
    "#for (k,v) in to_lengths_dict.items():\n",
    "#    clean_df[k] = clean_df[k].apply(lambda x: choice(x, v) if len(x) > v else x)\n",
    "#    full_df[k] = full_df[k].apply(lambda x: choice(x, v) if len(x) > v else x)\n",
    "\n",
    "print(max(train_set['GM.acc.xyz.z'].apply(lambda x: len(x))))\n",
    "print(max(validation_set['GM.acc.xyz.z'].apply(lambda x: len(x))))\n",
    "print(max(test_set['GM.acc.xyz.z'].apply(lambda x: len(x))))"
   ]
  },
  {
   "cell_type": "code",
   "execution_count": 9,
   "id": "43750776",
   "metadata": {},
   "outputs": [],
   "source": [
    "def matchLen(row):\n",
    "    seq_len = len(row['GM.acc.xyz.z'])\n",
    "    speed = row['GM.obd.spd_veh.value']\n",
    "    speed_len = len(speed)\n",
    "    multi = seq_len // speed_len + 1\n",
    "    speed = speed.repeat(multi)\n",
    "    speed = downsample(speed, seq_len)\n",
    "    row['GM.obd.spd_veh.value'] = speed\n",
    "    return row\n",
    "\n",
    "def matchLenDF(df):\n",
    "    result = df.copy()\n",
    "    result = result.apply(lambda row: matchLen(row), axis=1)\n",
    "    return result\n",
    "   \n",
    "#if(MATCH_LEN_DF):\n",
    "if(True):\n",
    "    train_set = matchLenDF(train_set)\n",
    "    validation_set = matchLenDF(validation_set)\n",
    "    test_set = matchLenDF(test_set)"
   ]
  },
  {
   "cell_type": "code",
   "execution_count": 10,
   "id": "82ba7b71",
   "metadata": {},
   "outputs": [],
   "source": [
    "if(LOAD):\n",
    "    SUFFIX = '2911-5'\n",
    "    test_set = pd.read_pickle('test_set{}.pkl'.format(SUFFIX))\n",
    "    train_set = pd.read_pickle('train_set{}.pkl'.format(SUFFIX))\n",
    "    validation_set = pd.read_pickle('validation_set{}.pkl'.format(SUFFIX))"
   ]
  },
  {
   "cell_type": "code",
   "execution_count": 11,
   "id": "e749f7c5",
   "metadata": {},
   "outputs": [
    {
     "name": "stdout",
     "output_type": "stream",
     "text": [
      "-0.372162386081193\n",
      "0.428684376976597\n",
      "-0.372162386081193\n",
      "0.4408602150537635\n",
      "-0.372162386081193\n",
      "0.43042378241619217\n"
     ]
    }
   ],
   "source": [
    "import statistics\n",
    "print(train_set['GM.acc.xyz.z'].apply(lambda x: statistics.median(x)).median())\n",
    "print(train_set['GM.obd.spd_veh.value'].apply(lambda x: statistics.median(x)).median())\n",
    "print(validation_set['GM.acc.xyz.z'].apply(lambda x: statistics.median(x)).median())\n",
    "print(validation_set['GM.obd.spd_veh.value'].apply(lambda x: statistics.median(x)).median())\n",
    "print(test_set['GM.acc.xyz.z'].apply(lambda x: statistics.median(x)).median())\n",
    "print(test_set['GM.obd.spd_veh.value'].apply(lambda x: statistics.median(x)).median())"
   ]
  },
  {
   "cell_type": "code",
   "execution_count": 12,
   "id": "f32ad1d6",
   "metadata": {},
   "outputs": [],
   "source": [
    "import torch.utils.data as data_utils\n",
    "import torch\n",
    "import torch.nn.utils.rnn as rnn_utils\n",
    "\n",
    "use_cuda = torch.cuda.is_available()"
   ]
  },
  {
   "cell_type": "code",
   "execution_count": 13,
   "id": "61ec41f4",
   "metadata": {},
   "outputs": [],
   "source": [
    "import torch.nn.utils.rnn as rnn_utils\n",
    "\n",
    "def loader(df, force_no_shuffle = False):\n",
    "    data = []\n",
    "    for i in range(len(df)):\n",
    "        accZSequence = df['GM.acc.xyz.z'].values[i]\n",
    "        speedSequence = df['GM.obd.spd_veh.value'].values[i]\n",
    "        \n",
    "        if(SHUFFLE and force_no_shuffle == False):\n",
    "            np.random.shuffle(accZSequence)\n",
    "            np.random.shuffle(speedSequence)\n",
    "        \n",
    "        data.append((torch.tensor(accZSequence), torch.tensor(speedSequence)))\n",
    "    return data\n",
    "\n",
    "def collate(batch):\n",
    "    accZSequences, speedSequences = zip(*batch)\n",
    "    accZSequences = rnn_utils.pad_sequence(accZSequences, batch_first=True).float()\n",
    "    speedSequences = rnn_utils.pad_sequence(speedSequences, batch_first=True).float()\n",
    "    return {\n",
    "        'accZ': accZSequences, \n",
    "        'speed': speedSequences\n",
    "    }\n",
    "\n",
    "def get_variable(x):\n",
    "    if use_cuda:\n",
    "        return x.cuda()\n",
    "    return x\n",
    "\n",
    "def get_variable_obj(t):\n",
    "    o = {}\n",
    "    for (k,v) in t.items():\n",
    "        o[k] = get_variable(v)\n",
    "    return o\n",
    "\n",
    "def get_numpy(x):\n",
    "    if use_cuda:\n",
    "        return x.cpu().data.numpy()\n",
    "    return x.data.numpy()\n",
    "\n",
    "train_data = loader(train_set)\n",
    "validation_data = loader(validation_set, force_no_shuffle=ONLY_SHUFFLE_TRAIN)\n",
    "test_data = loader(test_set, force_no_shuffle=ONLY_SHUFFLE_TRAIN)\n",
    "train_loader = data_utils.DataLoader(train_data, batch_size = BATCH_SIZE, shuffle = True, collate_fn = collate)\n",
    "validation_loader = data_utils.DataLoader(validation_data, batch_size = BATCH_SIZE, shuffle = False, collate_fn = collate)\n",
    "test_loader = data_utils.DataLoader(test_data, batch_size = 1, shuffle = False, collate_fn = collate)"
   ]
  },
  {
   "cell_type": "code",
   "execution_count": 14,
   "id": "34e1b551",
   "metadata": {},
   "outputs": [],
   "source": [
    "class Encoder(nn.Module):\n",
    "    def __init__(\n",
    "        self,\n",
    "        hidden_dim,\n",
    "        enc_dim,\n",
    "        match_len = False,\n",
    "    ):\n",
    "        super(Encoder, self).__init__()\n",
    "        \n",
    "        self.hidden_dim = hidden_dim\n",
    "        self.enc_dim = enc_dim\n",
    "        self.match_len = match_len\n",
    "        \n",
    "        self.rnn1 = LSTM( #LSTM\n",
    "            2,\n",
    "            hidden_dim,\n",
    "            batch_first = True,\n",
    "        )\n",
    "        \n",
    "        self.rnn2 = LSTM( #LSTM\n",
    "            hidden_dim,\n",
    "            enc_dim,\n",
    "            batch_first = True,\n",
    "        )\n",
    "        \n",
    "    def forward(\n",
    "        self, \n",
    "        x,\n",
    "    ):\n",
    "        zAcc, speed = x['accZ'], x['speed']\n",
    "        batch_size = zAcc.shape[0]\n",
    "        seq_len = zAcc.shape[1]\n",
    "        \n",
    "        ## If MATCH_LEN_DF is false, uncomment block below\n",
    "        #speed_seq_len = speed.shape[1]\n",
    "        #if(self.match_len == False):\n",
    "        #    multi = seq_len // speed_seq_len + 1\n",
    "        #    speed = torch.repeat_interleave(speed, multi, dim=1)\n",
    "        #    idx = torch.ones(speed.shape[0],speed.shape[1]).to(zAcc.device)\n",
    "        #    idx = idx.multinomial(seq_len, replacement=False)\n",
    "        #    idx = idx.sort()[0]\n",
    "        #    speed = torch.gather(speed, 1, idx)\n",
    "        \n",
    "        zAcc = zAcc.reshape(batch_size, seq_len, 1)\n",
    "        speed = speed.reshape(batch_size, seq_len, 1)\n",
    "        x = torch.cat((zAcc, speed), -1)\n",
    "        x, _ = self.rnn1(x)\n",
    "        x, (hn, _) = self.rnn2(x)\n",
    "        hn = hn.reshape(batch_size, self.enc_dim)\n",
    "        \n",
    "        return hn\n",
    "    \n",
    "class Decoder(nn.Module):\n",
    "    def __init__(\n",
    "        self,\n",
    "        enc_dim,\n",
    "        hidden_dim,\n",
    "    ):\n",
    "        super(Decoder, self).__init__()\n",
    "        \n",
    "        self.hidden_dim = hidden_dim\n",
    "        self.enc_dim = enc_dim\n",
    "        \n",
    "        self.rnn1 = LSTM( #LSTM\n",
    "            enc_dim,\n",
    "            hidden_dim,\n",
    "            batch_first = True\n",
    "        )\n",
    "        \n",
    "        self.rnn2 = LSTM( #LSTM\n",
    "            hidden_dim,\n",
    "            hidden_dim,\n",
    "            batch_first = True\n",
    "        )\n",
    "        \n",
    "        self.output = Linear(\n",
    "            hidden_dim,\n",
    "            1,\n",
    "        )\n",
    "        \n",
    "        \n",
    "    def forward(\n",
    "        self,\n",
    "        x,\n",
    "        seq_len,\n",
    "    ):\n",
    "        batch_size = x.shape[0]\n",
    "        x = x.repeat(1, seq_len)\n",
    "        x = x.reshape(batch_size, seq_len, self.enc_dim)\n",
    "        x, _ = self.rnn1(x)\n",
    "        x, _ = self.rnn2(x)\n",
    "        x = self.output(x)\n",
    "        x = x.reshape(batch_size, seq_len)\n",
    "        return x"
   ]
  },
  {
   "cell_type": "code",
   "execution_count": 15,
   "id": "7dbc34a6",
   "metadata": {},
   "outputs": [],
   "source": [
    "class RA(nn.Module):\n",
    "    def __init__(\n",
    "        self, \n",
    "        enc_dim = 128,\n",
    "        hidden_dim_enc = 256,\n",
    "        hidden_dim_dec = 256,\n",
    "        match_len = False,\n",
    "    ):\n",
    "        super(RA, self).__init__()\n",
    "        \n",
    "        self.encoder = Encoder(hidden_dim_enc, enc_dim, match_len)\n",
    "        self.decoder = Decoder(enc_dim, hidden_dim_dec)\n",
    "        \n",
    "    def forward(self, x):\n",
    "        seq_len = x['accZ'].shape[1]\n",
    "        x = self.encoder(x)\n",
    "        x = self.decoder(x, seq_len)\n",
    "        return x"
   ]
  },
  {
   "cell_type": "code",
   "execution_count": 16,
   "id": "d1a00ea7",
   "metadata": {
    "scrolled": true
   },
   "outputs": [
    {
     "name": "stdout",
     "output_type": "stream",
     "text": [
      "RA(\n",
      "  (encoder): Encoder(\n",
      "    (rnn1): LSTM(2, 192, batch_first=True)\n",
      "    (rnn2): LSTM(192, 96, batch_first=True)\n",
      "  )\n",
      "  (decoder): Decoder(\n",
      "    (rnn1): LSTM(96, 192, batch_first=True)\n",
      "    (rnn2): LSTM(192, 192, batch_first=True)\n",
      "    (output): Linear(in_features=192, out_features=1, bias=True)\n",
      "  )\n",
      ")\n"
     ]
    }
   ],
   "source": [
    "net = None\n",
    "net = RA(\n",
    "    enc_dim = 96, #12\n",
    "    hidden_dim_enc = 192, #18\n",
    "    hidden_dim_dec = 192, #18\n",
    "    #match_len = MATCH_LEN_DF,\n",
    ")\n",
    "\n",
    "if use_cuda:\n",
    "    net.cuda()\n",
    "\n",
    "print(net)"
   ]
  },
  {
   "cell_type": "code",
   "execution_count": 17,
   "id": "d5ff6c12",
   "metadata": {},
   "outputs": [
    {
     "name": "stdout",
     "output_type": "stream",
     "text": [
      "RA(\n",
      "  (encoder): Encoder(\n",
      "    (rnn1): LSTM(2, 192, batch_first=True)\n",
      "    (rnn2): LSTM(192, 96, batch_first=True)\n",
      "  )\n",
      "  (decoder): Decoder(\n",
      "    (rnn1): LSTM(96, 192, batch_first=True)\n",
      "    (rnn2): LSTM(192, 192, batch_first=True)\n",
      "    (output): Linear(in_features=192, out_features=1, bias=True)\n",
      "  )\n",
      ")\n"
     ]
    }
   ],
   "source": [
    "if(LOAD):\n",
    "    SUFFIX = '2911-5'\n",
    "    \n",
    "    oldNetDict = torch.load('model{}.pth'.format(SUFFIX))\n",
    "    oldNet = RA(\n",
    "        enc_dim = 96, #12\n",
    "        hidden_dim_enc = 192, #18\n",
    "        hidden_dim_dec = 192, #18\n",
    "    )\n",
    "    oldNet.load_state_dict(oldNetDict)\n",
    "    oldNet.eval()\n",
    "    net = oldNet\n",
    "    net.cuda()\n",
    "    print(net)"
   ]
  },
  {
   "cell_type": "code",
   "execution_count": 18,
   "id": "cd01b4e4",
   "metadata": {},
   "outputs": [],
   "source": [
    "TRAIN = False\n",
    "\n",
    "LR = 6e-4 #6e-4\n",
    "wd = 2e-5 #2e-5\n",
    "criterion = nn.L1Loss(reduction='sum').cuda()\n",
    "optimizer = optim.Adam(\n",
    "    net.parameters(), \n",
    "    lr=LR, \n",
    "    weight_decay=wd\n",
    ")\n",
    "\n",
    "epochs = 5 #1\n",
    "train_hist = []\n",
    "val_hist = []\n",
    "\n",
    "\n",
    "if(TRAIN):\n",
    "    for epoch in range(1, epochs + 1):\n",
    "        net.train()\n",
    "\n",
    "        train_losses = []\n",
    "        totBatches = len(train_loader)\n",
    "        cBatch = 1\n",
    "        for data in train_loader:\n",
    "            optimizer.zero_grad()\n",
    "\n",
    "            data = get_variable_obj(data)\n",
    "            pred = net(data)\n",
    "\n",
    "            loss = criterion(pred, data['accZ'])\n",
    "\n",
    "            loss.backward()\n",
    "            optimizer.step()\n",
    "\n",
    "            train_losses.append(get_numpy(loss) / BATCH_SIZE)\n",
    "            print('{}/{} batches, mean 10 last losses: {:.4f}'.format(cBatch, totBatches, np.mean(train_losses[-10:])), end='\\r')\n",
    "            cBatch = cBatch + 1\n",
    "\n",
    "\n",
    "        val_losses = []\n",
    "        net.eval()\n",
    "\n",
    "        with torch.no_grad():\n",
    "            for data in validation_loader:\n",
    "                data = get_variable_obj(data)\n",
    "\n",
    "                pred = net(data)\n",
    "\n",
    "                loss = criterion(pred, data['accZ'])\n",
    "                val_losses.append(get_numpy(loss) / BATCH_SIZE)\n",
    "\n",
    "        train_loss = np.mean(train_losses)\n",
    "        val_loss = np.mean(val_losses)\n",
    "        print('                                                                                      ', end='\\r')\n",
    "        print('Epoch {}, trfain loss {:.4f}'.format(epoch, train_loss))\n",
    "        print('Epoch {}, val loss {:.4f}'.format(epoch, val_loss))\n",
    "\n",
    "        train_hist.append(train_loss)\n",
    "        val_hist.append(val_loss)\n"
   ]
  },
  {
   "cell_type": "code",
   "execution_count": 19,
   "id": "baec980d",
   "metadata": {},
   "outputs": [
    {
     "name": "stdout",
     "output_type": "stream",
     "text": [
      "96.19021                          \n",
      "94.59587                          \n"
     ]
    },
    {
     "data": {
      "image/png": "[encoded data removed]",
      "text/plain": [
       "<Figure size 432x288 with 1 Axes>"
      ]
     },
     "metadata": {
      "needs_background": "light"
     },
     "output_type": "display_data"
    },
    {
     "data": {
      "image/png": "[encoded data removed]",
      "text/plain": [
       "<Figure size 432x288 with 1 Axes>"
      ]
     },
     "metadata": {
      "needs_background": "light"
     },
     "output_type": "display_data"
    }
   ],
   "source": [
    "net.eval()\n",
    "with torch.no_grad():\n",
    "    train_losses = []\n",
    "    train_lens = []\n",
    "    for i, data in enumerate(train_loader):\n",
    "        if(np.random.rand() > 0.04):\n",
    "            continue\n",
    "        print('{}/{}'.format(i,len(train_loader)), end='\\r')\n",
    "        data = get_variable_obj(data)\n",
    "\n",
    "        labels = data['accZ']\n",
    "        pred = net(data)\n",
    "\n",
    "        loss = criterion(pred, labels)\n",
    "        train_losses.append(get_numpy(loss) / BATCH_SIZE)\n",
    "        train_lens.append(data['accZ'].shape[1])\n",
    "    print('                                  ', end='\\r')\n",
    "    print('{:.5f}'.format(np.mean(train_losses)))\n",
    "\n",
    "    val_losses = []\n",
    "    val_lens = []\n",
    "    for i, data in enumerate(validation_loader):\n",
    "        if(np.random.rand() > 0.30):\n",
    "            continue\n",
    "        print('{}/{}'.format(i,len(validation_loader)), end='\\r')\n",
    "        data = get_variable_obj(data)\n",
    "\n",
    "        labels = data['accZ']\n",
    "        pred = net(data)\n",
    "\n",
    "        loss = criterion(pred, labels)\n",
    "        val_losses.append(get_numpy(loss) / BATCH_SIZE)\n",
    "        val_lens.append(data['accZ'].shape[1])\n",
    "    print('                                  ', end='\\r')\n",
    "    print('{:.5f}'.format(np.mean(val_losses)))\n",
    "\n",
    "train_lens_sorted = [x for x,y in sorted(zip(train_lens, train_losses), key=lambda pair: pair[0])]\n",
    "train_losses_sorted = [y for x,y in sorted(zip(train_lens, train_losses), key=lambda pair: pair[0])]\n",
    "plt.title('Training')\n",
    "plt.scatter(train_lens_sorted, train_losses_sorted)\n",
    "plt.ylabel('Error')\n",
    "plt.xlabel('Length of acc sequence')\n",
    "plt.show()\n",
    "\n",
    "val_lens_sorted = [x for x,y in sorted(zip(val_lens, val_losses), key=lambda pair: pair[0])]\n",
    "val_losses_sorted = [y for x,y in sorted(zip(val_lens, val_losses), key=lambda pair: pair[0])]\n",
    "plt.title('Validation')\n",
    "plt.scatter(val_lens_sorted, val_losses_sorted)\n",
    "plt.ylabel('Error')\n",
    "plt.xlabel('Length of acc sequence')\n",
    "plt.show()"
   ]
  },
  {
   "cell_type": "code",
   "execution_count": 20,
   "id": "4ca272ba",
   "metadata": {},
   "outputs": [],
   "source": [
    "anomaly_test_size_frac = 0.5 #0.5\n",
    "anomaly_test_size = round(len(test_set)*(anomaly_test_size_frac/(1-anomaly_test_size_frac)))\n",
    "\n",
    "assert(anomaly_test_size <= len(df[df['IRI_mean'] > 4.5]))"
   ]
  },
  {
   "cell_type": "code",
   "execution_count": 21,
   "id": "19bfdb9a",
   "metadata": {},
   "outputs": [
    {
     "name": "stdout",
     "output_type": "stream",
     "text": [
      "-0.372162386081193\n",
      "0.20548703352308656\n"
     ]
    }
   ],
   "source": [
    "test_anomaly_df = full_df.copy()\n",
    "test_anomaly_df = test_anomaly_df[test_anomaly_df['IRI_mean'] > 4.5]\n",
    "\n",
    "if(DOWNSAMPLE):\n",
    "    for (k,v) in to_lengths_dict.items():\n",
    "        test_anomaly_df[k] = test_anomaly_df[k].apply(lambda x: downsample(x,v) if len(x) > v else x)\n",
    "elif(DOWNSAMPLE_BY_REMOVAL):\n",
    "    test_anomaly_df = test_anomaly_df[test_anomaly_df['GM.acc.xyz.z'].apply(lambda x: len(x)) < to_lengths_dict['GM.acc.xyz.z']]\n",
    "\n",
    "test_anomaly_df = test_anomaly_df.sample(n = anomaly_test_size)\n",
    "\n",
    "if(NORMALIZE):\n",
    "    test_anomaly_df = normalizeDF(test_anomaly_df)\n",
    "\n",
    "#if(MATCH_LEN_DF):\n",
    "if(True):\n",
    "    test_anomaly_df = matchLenDF(test_anomaly_df)\n",
    "    \n",
    "\n",
    "print(test_anomaly_df['GM.acc.xyz.z'].apply(lambda x: statistics.median(x)).median())\n",
    "print(test_anomaly_df['GM.obd.spd_veh.value'].apply(lambda x: statistics.median(x)).median())"
   ]
  },
  {
   "cell_type": "code",
   "execution_count": 22,
   "id": "a4173404",
   "metadata": {},
   "outputs": [],
   "source": [
    "anomaly_lens = test_anomaly_df['GM.acc.xyz.z'].apply(lambda x: len(x))\n",
    "test_set_lens = test_set['GM.acc.xyz.z'].apply(lambda x: len(x))"
   ]
  },
  {
   "cell_type": "code",
   "execution_count": 23,
   "id": "80dd3a9f",
   "metadata": {},
   "outputs": [],
   "source": [
    "assert(max(test_set['IRI_mean']) <= 4.5)\n",
    "assert(min(test_anomaly_df['IRI_mean']) > 4.5)"
   ]
  },
  {
   "cell_type": "code",
   "execution_count": 24,
   "id": "a2297122",
   "metadata": {},
   "outputs": [
    {
     "name": "stdout",
     "output_type": "stream",
     "text": [
      "anomaly done\n",
      "conform done\n"
     ]
    }
   ],
   "source": [
    "anomaly_data = loader(test_anomaly_df, force_no_shuffle=ONLY_SHUFFLE_TRAIN)\n",
    "anomaly_loader = data_utils.DataLoader(anomaly_data, batch_size = 1, shuffle = False, collate_fn = collate)\n",
    "\n",
    "recon_normal = []\n",
    "recon_anomaly = []\n",
    "\n",
    "net.eval()\n",
    "\n",
    "with torch.no_grad():\n",
    "    totlen = len(anomaly_loader)\n",
    "    for i, e in enumerate(anomaly_loader):\n",
    "        e = get_variable_obj(e)\n",
    "        result = net(e)\n",
    "        target = e['accZ']\n",
    "        loss = get_numpy(criterion(result, target)).item()\n",
    "        recon_anomaly.append(loss)\n",
    "        if(i%10==0):\n",
    "            print('{}/{}'.format(i,totlen), end='\\r')\n",
    "\n",
    "    print('anomaly done')\n",
    "\n",
    "    totlen = len(test_loader)            \n",
    "    for i, e in enumerate(test_loader):\n",
    "        e = get_variable_obj(e)\n",
    "        result = net(e)\n",
    "        target = e['accZ']\n",
    "        loss = get_numpy(criterion(result, target)).item()\n",
    "        recon_normal.append(loss)\n",
    "        if(i%10==0):\n",
    "            print('{}/{}'.format(i,totlen), end='\\r')\n",
    "\n",
    "    print('conform done')"
   ]
  },
  {
   "cell_type": "code",
   "execution_count": 25,
   "id": "ad0b9bd1",
   "metadata": {},
   "outputs": [
    {
     "data": {
      "text/plain": [
       "87.62258911132812"
      ]
     },
     "execution_count": 25,
     "metadata": {},
     "output_type": "execute_result"
    }
   ],
   "source": [
    "statistics.median(recon_normal)"
   ]
  },
  {
   "cell_type": "code",
   "execution_count": 26,
   "id": "3467b59a",
   "metadata": {},
   "outputs": [
    {
     "data": {
      "text/plain": [
       "148.2278594970703"
      ]
     },
     "execution_count": 26,
     "metadata": {},
     "output_type": "execute_result"
    }
   ],
   "source": [
    "statistics.median(recon_anomaly)"
   ]
  },
  {
   "cell_type": "code",
   "execution_count": 27,
   "id": "21c2ce5f",
   "metadata": {},
   "outputs": [],
   "source": [
    "reconAll = []\n",
    "reconAll.extend(recon_normal)\n",
    "reconAll.extend(recon_anomaly)\n",
    "targets = []\n",
    "targets.extend([0 for i in range(len(recon_normal))])\n",
    "targets.extend([1 for i in range(len(recon_anomaly))])"
   ]
  },
  {
   "cell_type": "code",
   "execution_count": 28,
   "id": "14bcabd4",
   "metadata": {},
   "outputs": [
    {
     "data": {
      "text/plain": [
       "612"
      ]
     },
     "execution_count": 28,
     "metadata": {},
     "output_type": "execute_result"
    }
   ],
   "source": [
    "len(reconAll)"
   ]
  },
  {
   "cell_type": "code",
   "execution_count": 29,
   "id": "6048332e",
   "metadata": {},
   "outputs": [
    {
     "data": {
      "image/png": "[encoded data removed]",
      "text/plain": [
       "<Figure size 432x288 with 1 Axes>"
      ]
     },
     "metadata": {
      "needs_background": "light"
     },
     "output_type": "display_data"
    },
    {
     "name": "stdout",
     "output_type": "stream",
     "text": [
      "115.42048645019531\n",
      "0.6176470588235294\n",
      "0.18627450980392157\n",
      "0.803921568627451\n"
     ]
    }
   ],
   "source": [
    "import sklearn.metrics as metrics\n",
    "import seaborn as sns\n",
    "fpr, tpr, thresholds = metrics.roc_curve(targets, reconAll)\n",
    "auc = metrics.roc_auc_score(targets, reconAll) #0.88\n",
    "plt.title('Receiver Operating Characteristic ({:.2f} AUC)'.format(auc))\n",
    "plt.plot(fpr, tpr, 'b', label = 'roc')\n",
    "plt.legend(loc = 'lower right')\n",
    "plt.plot([0, 1], [0, 1],'r--')\n",
    "plt.grid()\n",
    "plt.xticks(np.arange(0.0, 1.01, 0.1))\n",
    "plt.yticks(np.arange(0.0, 1.01, 0.1))\n",
    "#plt.xlim([-0.1, 1.1])\n",
    "#plt.ylim([-0.1, 1.1])\n",
    "plt.ylabel('True Positive Rate')\n",
    "plt.xlabel('False Positive Rate')\n",
    "plt.show()\n",
    "c = tpr-fpr\n",
    "idx = np.argmax(c)\n",
    "print(thresholds[idx])\n",
    "print(c[idx])\n",
    "print(fpr[idx]) #\n",
    "print(tpr[idx]) #\n",
    "roc_optimal_threshold = thresholds[idx]"
   ]
  },
  {
   "cell_type": "code",
   "execution_count": 30,
   "id": "c8e3c59f",
   "metadata": {},
   "outputs": [
    {
     "data": {
      "image/png": "[encoded data removed]",
      "text/plain": [
       "<Figure size 432x288 with 1 Axes>"
      ]
     },
     "metadata": {
      "needs_background": "light"
     },
     "output_type": "display_data"
    },
    {
     "name": "stdout",
     "output_type": "stream",
     "text": [
      "115.42048645019531\n",
      "0.8078817733990149\n",
      "0.8118811881188119\n",
      "0.803921568627451\n"
     ]
    }
   ],
   "source": [
    "precision, recall, thresholds = metrics.precision_recall_curve(targets, reconAll)\n",
    "auc = metrics.auc(recall, precision)\n",
    "plt.title('Precision Recall Curve ({:.2f} AUC)'.format(auc))\n",
    "plt.plot(recall, precision, 'b', label = 'pr')\n",
    "plt.legend(loc = 'lower left')\n",
    "plt.grid()\n",
    "plt.xticks(np.arange(0.0, 1.01, 0.1))\n",
    "plt.yticks(np.arange(0.0, 1.01, 0.1))\n",
    "#plt.xlim([-0.1, 1.1])\n",
    "#plt.ylim([-0.1, 1.1])\n",
    "plt.ylabel('Precision')\n",
    "plt.xlabel('Recall')\n",
    "plt.show()\n",
    "fscore = (2 * precision * recall) / (precision + recall)\n",
    "idx = np.argmax(fscore)\n",
    "print(thresholds[idx])\n",
    "print(fscore[idx])\n",
    "print(precision[idx])\n",
    "print(recall[idx])\n",
    "prc_optimal_threshold = thresholds[idx]"
   ]
  },
  {
   "cell_type": "code",
   "execution_count": 31,
   "id": "35284301",
   "metadata": {},
   "outputs": [
    {
     "data": {
      "image/png": "[encoded data removed]",
      "text/plain": [
       "<Figure size 454.125x360 with 1 Axes>"
      ]
     },
     "metadata": {
      "needs_background": "light"
     },
     "output_type": "display_data"
    }
   ],
   "source": [
    "sns.displot({'Conforming': recon_normal, 'Anomalies': recon_anomaly}, bins=np.arange(0.0,max(recon_anomaly),max(recon_anomaly)/100), kde=True)\n",
    "plt.show()"
   ]
  },
  {
   "cell_type": "code",
   "execution_count": 32,
   "id": "9689f992",
   "metadata": {},
   "outputs": [],
   "source": [
    "def score(row):\n",
    "    acc = row['GM.acc.xyz.z']#.to_numpy()\n",
    "    #acc = acc[0]\n",
    "    acc = torch.tensor(acc).view(1,-1).float()\n",
    "    speed = row['GM.obd.spd_veh.value']#.to_numpy()\n",
    "    #speed = speed[0].astype(float)\n",
    "    speed = torch.tensor(speed).view(1,-1).float()\n",
    "    e = {\n",
    "        'accZ': acc,\n",
    "        'speed': speed,\n",
    "    }\n",
    "    e = get_variable_obj(e)\n",
    "    result = net(e)\n",
    "    target = e['accZ']\n",
    "    loss = get_numpy(criterion(result, target)).item()\n",
    "    return loss\n",
    "    \n",
    "anom_score_df = test_anomaly_df.copy()\n",
    "anom_score_df['score'] = anom_score_df.apply(lambda x: score(x), 1)\n",
    "test_score_df = test_set.copy()\n",
    "test_score_df['score'] = test_score_df.apply(lambda x: score(x), 1)"
   ]
  },
  {
   "cell_type": "code",
   "execution_count": 33,
   "id": "093bc45a",
   "metadata": {},
   "outputs": [],
   "source": [
    "import math\n",
    "def plotScores(df, title, threshold):\n",
    "    ## This shows the correlation between IRI mean of the anomalies and their scores\n",
    "    ## For a rising trend, it would be tempting to train on a sligthly skewed training set (max iri of eg 4.3 on training)\n",
    "    ## This would however, also have negative effects, as the AE will score worse on the conforming data between 4.3 and 4.5 too\n",
    "    ## In the real world, there are probably more conforming road than anomalous, so this would be amplified\n",
    "    scores = df['score'].values\n",
    "    means = df['IRI_mean'].values\n",
    "\n",
    "    means_sorted = [x for x,y in sorted(zip(means, scores), key=lambda pair: pair[0])]\n",
    "    scores_sorted = [y for x,y in sorted(zip(means, scores), key=lambda pair: pair[0])]\n",
    "    plt.title(title)\n",
    "    plt.scatter(means_sorted, scores_sorted)#, 'b', label = 'pr')\n",
    "    plt.plot([min(df['IRI_mean']), max(df['IRI_mean'])], [threshold, threshold], 'r--', label='threshold')\n",
    "    plt.ylabel('Loss')\n",
    "    plt.xlabel('IRI_mean value')\n",
    "    plt.legend()\n",
    "    plt.show()\n",
    "    \n",
    "def distAcc(df, max_IRI_mean, title, threshold, anomalies = True):\n",
    "    missed = df[df['score'] <= threshold]\n",
    "    caught = df[df['score'] > threshold]\n",
    "    if(anomalies == False):\n",
    "        missed, caught = caught, missed\n",
    "    missed_scores = missed['IRI_mean'].values\n",
    "    caught_scores = caught['IRI_mean'].values\n",
    "    bins = math.ceil(max_IRI_mean)*10\n",
    "    #max(df['IRI_mean'])-4.5\n",
    "    a = sns.displot({'Correctly Labeled': caught_scores, 'Mislabeled': missed_scores, }, bins=bins, kde=True)\n",
    "    plt.yticks(np.arange(0, a.ax.dataLim.y1 + 1, max(1,a.ax.dataLim.y1 // 10)))\n",
    "    plt.title(title)\n",
    "    plt.show()\n",
    "    return caught, missed"
   ]
  },
  {
   "cell_type": "code",
   "execution_count": 34,
   "id": "8844609e",
   "metadata": {},
   "outputs": [],
   "source": [
    "max_IRI_mean = max(df['IRI_mean'])-4.5\n",
    "#opt_threshold = (roc_optimal_threshold + prc_optimal_threshold)/2\n",
    "opt_threshold = prc_optimal_threshold"
   ]
  },
  {
   "cell_type": "code",
   "execution_count": 35,
   "id": "4e644344",
   "metadata": {},
   "outputs": [
    {
     "data": {
      "image/png": "[encoded data removed]",
      "text/plain": [
       "<Figure size 432x288 with 1 Axes>"
      ]
     },
     "metadata": {
      "needs_background": "light"
     },
     "output_type": "display_data"
    },
    {
     "data": {
      "image/png": "[encoded data removed]",
      "text/plain": [
       "<Figure size 483.5x360 with 1 Axes>"
      ]
     },
     "metadata": {
      "needs_background": "light"
     },
     "output_type": "display_data"
    },
    {
     "data": {
      "image/png": "[encoded data removed]",
      "text/plain": [
       "<Figure size 432x288 with 1 Axes>"
      ]
     },
     "metadata": {
      "needs_background": "light"
     },
     "output_type": "display_data"
    },
    {
     "data": {
      "image/png": "[encoded data removed]",
      "text/plain": [
       "<Figure size 483.5x360 with 1 Axes>"
      ]
     },
     "metadata": {
      "needs_background": "light"
     },
     "output_type": "display_data"
    }
   ],
   "source": [
    "plotScores(anom_score_df, 'Anomaly losses', opt_threshold)\n",
    "caught, missed = distAcc(anom_score_df, max_IRI_mean, 'Anomaly Correct & Mislabeled based on IRI_mean', opt_threshold, anomalies = True)\n",
    "plotScores(test_score_df, 'Test losses', opt_threshold)\n",
    "caught2, missed2 = distAcc(test_score_df, max_IRI_mean, 'Test Correct & Mislabeled based on IRI_mean', opt_threshold, anomalies = False)\n",
    "caught = caught.append(caught2)\n",
    "missed = missed.append(missed2)\n",
    "caught_scores = caught['IRI_mean'].values\n",
    "missed_scores = missed['IRI_mean'].values"
   ]
  },
  {
   "cell_type": "code",
   "execution_count": 36,
   "id": "2c67e201",
   "metadata": {},
   "outputs": [
    {
     "data": {
      "image/png": "[encoded data removed]",
      "text/plain": [
       "<Figure size 483.5x360 with 1 Axes>"
      ]
     },
     "metadata": {
      "needs_background": "light"
     },
     "output_type": "display_data"
    }
   ],
   "source": [
    "bins = math.ceil(max_IRI_mean)*6 # fiddle to make the dashed line fit between bins\n",
    "a = sns.displot({'Correctly Labeled': caught_scores, 'Mislabeled': missed_scores, }, bins=bins, kde=True)\n",
    "            \n",
    "plt.yticks(np.arange(0, a.ax.dataLim.y1 + 1, max(1,a.ax.dataLim.y1 // 10)))\n",
    "plt.plot([4.5,4.5],[a.ax.dataLim.y0,a.ax.dataLim.y1], 'r--', label='IRI threshold', lw=2)\n",
    "plt.legend()\n",
    "plt.title('Correct/Incorrect overall')\n",
    "plt.show()"
   ]
  },
  {
   "cell_type": "code",
   "execution_count": 37,
   "id": "a3caee1d",
   "metadata": {},
   "outputs": [
    {
     "data": {
      "image/png": "[encoded data removed]",
      "text/plain": [
       "<Figure size 432x288 with 1 Axes>"
      ]
     },
     "metadata": {
      "needs_background": "light"
     },
     "output_type": "display_data"
    }
   ],
   "source": [
    "lines = []\n",
    "\n",
    "for i in a.ax.get_children():\n",
    "    if(type(i) == plt.Line2D):\n",
    "        if(i.get_label() != 'IRI threshold'):\n",
    "            lines.append(i)\n",
    "\n",
    "line1 = lines[0]\n",
    "line2 = lines[1]\n",
    "line1x = line1.get_xdata()\n",
    "line1y = line1.get_ydata()\n",
    "line2x = line2.get_xdata()\n",
    "line2y = line2.get_ydata()\n",
    "newLineX, newLineY = line1x, (line1y/(line2y+line1y))\n",
    "sns.lineplot(x=newLineX, y=newLineY, label='Error rate from kde')\n",
    "plt.plot([4.5,4.5],[0,0.5], 'r--', label='IRI threshold', lw=2)\n",
    "plt.xticks(np.arange(0,9.1,1))\n",
    "plt.xlabel('IRI mean')\n",
    "plt.yticks(np.arange(0,0.51,0.05))\n",
    "plt.ylabel('Error rate')\n",
    "plt.title('Error rate taken from kde lines')\n",
    "plt.grid()\n",
    "plt.legend()\n",
    "plt.show()"
   ]
  },
  {
   "cell_type": "code",
   "execution_count": 38,
   "id": "972b3708",
   "metadata": {},
   "outputs": [],
   "source": [
    "SAVE = False\n",
    "if(SAVE):\n",
    "    SUFFIX = '2911-5'\n",
    "    torch.save(net.state_dict(), 'model{}.pth'.format(SUFFIX))\n",
    "    test_set.to_pickle('test_set{}.pkl'.format(SUFFIX))\n",
    "    train_set.to_pickle('train_set{}.pkl'.format(SUFFIX))\n",
    "    validation_set.to_pickle('validation_set{}.pkl'.format(SUFFIX))"
   ]
  },
  {
   "cell_type": "code",
   "execution_count": 39,
   "id": "780985d7",
   "metadata": {},
   "outputs": [
    {
     "name": "stdout",
     "output_type": "stream",
     "text": [
      "2446\n",
      "306\n",
      "306\n",
      "306\n"
     ]
    }
   ],
   "source": [
    "print(len(train_set))\n",
    "print(len(validation_set))\n",
    "print(len(test_set))\n",
    "print(len(test_anomaly_df))"
   ]
  },
  {
   "cell_type": "code",
   "execution_count": null,
   "id": "49ae4864",
   "metadata": {},
   "outputs": [],
   "source": []
  }
 ],
 "metadata": {
  "kernelspec": {
   "display_name": "Python 3",
   "language": "python",
   "name": "python3"
  },
  "language_info": {
   "codemirror_mode": {
    "name": "ipython",
    "version": 3
   },
   "file_extension": ".py",
   "mimetype": "text/x-python",
   "name": "python",
   "nbconvert_exporter": "python",
   "pygments_lexer": "ipython3",
   "version": "3.8.8"
  }
 },
 "nbformat": 4,
 "nbformat_minor": 5
}
